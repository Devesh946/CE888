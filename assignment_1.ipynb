{
  "nbformat": 4,
  "nbformat_minor": 0,
  "metadata": {
    "colab": {
      "name": "assignment 1.ipynb",
      "provenance": [],
      "collapsed_sections": [],
      "authorship_tag": "ABX9TyPTGszr1FdqZw/Ud7VC6orE",
      "include_colab_link": true
    },
    "kernelspec": {
      "name": "python3",
      "display_name": "Python 3"
    }
  },
  "cells": [
    {
      "cell_type": "markdown",
      "metadata": {
        "id": "view-in-github",
        "colab_type": "text"
      },
      "source": [
        "<a href=\"https://colab.research.google.com/github/Devesh946/CE888/blob/master/assignment_1.ipynb\" target=\"_parent\"><img src=\"https://colab.research.google.com/assets/colab-badge.svg\" alt=\"Open In Colab\"/></a>"
      ]
    },
    {
      "cell_type": "code",
      "metadata": {
        "id": "OeQgIuLrIbIu"
      },
      "source": [
        "import pandas as pd\r\n",
        "import urllib.request\r\n",
        "import requests\r\n",
        "url=\"https://raw.githubusercontent.com/cardiffnlp/tweeteval/main/datasets/sentiment/test_text.txt\"\r\n",
        "#df = open(url,\"r\")\r\n",
        "#print(df)\r\n",
        "\r\n",
        "r=requests.get(url,allow_redirects=True)\r\n",
        "data=open('train_text.txt','wb').write(r.content)\r\n"
      ],
      "execution_count": 4,
      "outputs": []
    },
    {
      "cell_type": "code",
      "metadata": {
        "colab": {
          "base_uri": "https://localhost:8080/"
        },
        "id": "t-fel1wIMVwM",
        "outputId": "514d2729-d18f-4988-c3cb-54589da4bca6"
      },
      "source": [
        "stream= open(\"train_text.txt\")\r\n",
        "tweets=stream.readlines()\r\n",
        "stream.close()\r\n",
        "print(tweets[1])"
      ],
      "execution_count": null,
      "outputs": [
        {
          "output_type": "stream",
          "text": [
            "OH: “I had a blue penis while I was this” [playing with Google Earth VR] \n",
            "\n"
          ],
          "name": "stdout"
        }
      ]
    },
    {
      "cell_type": "code",
      "metadata": {
        "colab": {
          "base_uri": "https://localhost:8080/"
        },
        "id": "DIRPiHDU6RXw",
        "outputId": "f654fd17-435c-45de-8735-041b4468bed6"
      },
      "source": [
        "r = requests.get(url, allow_redirects=True)\r\n",
        "open('train_text.txt', 'wb').write(r.content)\r\n",
        "\r\n",
        "r = requests.get(url, allow_redirects=True)\r\n",
        "open('train_labels.txt', 'wb').write(r.content)\r\n",
        "\r\n",
        "r = requests.get(url, allow_redirects=True)\r\n",
        "open('val_text.txt', 'wb').write(r.content)\r\n",
        "\r\n",
        "r = requests.get(url, allow_redirects=True)\r\n",
        "open('val_labels.txt', 'wb').write(r.content)\r\n",
        "\r\n",
        "r = requests.get(url, allow_redirects=True)\r\n",
        "open('test_text.txt', 'wb').write(r.content)\r\n",
        "\r\n",
        "r = requests.get(url, allow_redirects=True)\r\n",
        "open('test_labels.txt', 'wb').write(r.content)"
      ],
      "execution_count": null,
      "outputs": [
        {
          "output_type": "execute_result",
          "data": {
            "text/plain": [
              "1156877"
            ]
          },
          "metadata": {
            "tags": []
          },
          "execution_count": 33
        }
      ]
    }
  ]
}